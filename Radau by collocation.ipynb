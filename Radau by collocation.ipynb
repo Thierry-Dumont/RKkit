{
 "cells": [
  {
   "cell_type": "code",
   "execution_count": 1,
   "metadata": {},
   "outputs": [],
   "source": [
    "from RKformula import *\n",
    "from RKcolloc import * "
   ]
  },
  {
   "cell_type": "code",
   "execution_count": 2,
   "metadata": {},
   "outputs": [],
   "source": [
    "R = PolynomialRing(AA,\"x\")\n",
    "x=R.gen()"
   ]
  },
  {
   "cell_type": "markdown",
   "metadata": {},
   "source": [
    "### The Radau method, 3 steps ###"
   ]
  },
  {
   "cell_type": "code",
   "execution_count": 3,
   "metadata": {},
   "outputs": [],
   "source": [
    "n=3"
   ]
  },
  {
   "cell_type": "code",
   "execution_count": 4,
   "metadata": {},
   "outputs": [
    {
     "name": "stdout",
     "output_type": "stream",
     "text": [
      "[0.1550510257216822?, 0.6449489742783178?, 1.000000000000000?]\n"
     ]
    }
   ],
   "source": [
    "c=[s[0] for s in diff(x^(n-1)*(x-1)^(n),x,n-1 ).roots()]\n",
    "print c"
   ]
  },
  {
   "cell_type": "markdown",
   "metadata": {},
   "source": [
    "The RK. formula:"
   ]
  },
  {
   "cell_type": "code",
   "execution_count": 5,
   "metadata": {},
   "outputs": [],
   "source": [
    "A,B=colloc(c,R)\n",
    "F=RKformula(A,B)"
   ]
  },
  {
   "cell_type": "code",
   "execution_count": 6,
   "metadata": {},
   "outputs": [
    {
     "data": {
      "text/plain": [
       "[  0.1968154772236605?  -0.0655354258501984?  0.02377097434822016?]\n",
       "[  0.3944243147390873?   0.2920734116652285? -0.04154875212599793?]\n",
       "[  0.3764030627004673?   0.5124858261884216?                   1/9]"
      ]
     },
     "execution_count": 6,
     "metadata": {},
     "output_type": "execute_result"
    }
   ],
   "source": [
    "F.A"
   ]
  },
  {
   "cell_type": "code",
   "execution_count": 7,
   "metadata": {},
   "outputs": [
    {
     "data": {
      "text/plain": [
       "(0.3764030627004673?, 0.5124858261884216?, 1/9)"
      ]
     },
     "execution_count": 7,
     "metadata": {},
     "output_type": "execute_result"
    }
   ],
   "source": [
    "F.B"
   ]
  },
  {
   "cell_type": "code",
   "execution_count": 8,
   "metadata": {},
   "outputs": [],
   "source": [
    "F.compute_all_properties()\n"
   ]
  },
  {
   "cell_type": "code",
   "execution_count": 9,
   "metadata": {},
   "outputs": [
    {
     "name": "stdout",
     "output_type": "stream",
     "text": [
      "->  is_module_of_stability_function_constant_on_Im  :\n",
      " False \n",
      "\n",
      "->  order_star_function  :\n",
      " abs((0.05*(x + I*y)^2 + 0.4*x + 0.4*I*y + 1.0)*e^(-x - I*y)/(-0.01666666666666667*(x + I*y)^3 + 0.15000000000000002*(x + I*y)^2 - 0.6000000000000001*x - 0.6000000000000001*I*y + 1.0)) \n",
      "\n",
      "->  is_Symplectic  :\n",
      " Unknown \n",
      "\n",
      "->  stability_on_real_negative_axis  :\n",
      " -Infinity \n",
      "\n",
      "->  is_stiffly_accurate  :\n",
      " True \n",
      "\n",
      "->  is_explicit  :\n",
      " False \n",
      "\n",
      "->  is_Symmetric  :\n",
      " False \n",
      "\n",
      "->  is_A_stable  :\n",
      " True \n",
      "\n",
      "->  conserve_quadratic_invariants  :\n",
      " False \n",
      "\n",
      "->  is_L_stable  :\n",
      " True \n",
      "\n",
      "->  is_module_of_stability_function_less_than_1  :\n",
      " True \n",
      "\n",
      "->  stability_function  :\n",
      " (1/20*z^2 + 2/5*z + 1)/(-1/60*z^3 + 3/20*z^2 - 3/5*z + 1) \n",
      "\n",
      "->  stability_function_on_im_axis  :\n",
      " (-1/20*x^2 + 2/5*I*x + 1)/(1/60*I*x^3 - 3/20*x^2 - 3/5*I*x + 1) \n",
      "\n",
      "->  A_is_invertible  :\n",
      " True \n",
      "\n",
      "->  order_of_stability_function  :\n",
      " 5 \n",
      "\n",
      "->  order  :\n",
      " 5 \n",
      "\n",
      "->  is_algebraically_stable  :\n",
      " False \n",
      "\n",
      "->  poles_of_stability_function  :\n",
      " [(3.637834252744496?, 1), (2.681082873627752? - 3.050430199247411?*I, 1), (2.681082873627752? + 3.050430199247411?*I, 1)] \n",
      "\n",
      "->  squared_module_of_stability_function_on_Im  :\n",
      " (1/1440000*x^4 + 1/60000*x^2 + 1/3600)/(1/12960000*x^6 + 1/1440000*x^4 + 1/60000*x^2 + 1/3600) \n",
      "\n",
      "->  real_part_of_poles_all_positive  :\n",
      " (True, 0) \n",
      "\n"
     ]
    }
   ],
   "source": [
    "F.print_all_known_properties()"
   ]
  },
  {
   "cell_type": "code",
   "execution_count": 10,
   "metadata": {},
   "outputs": [],
   "source": [
    "load(\"radau5.sage\")"
   ]
  },
  {
   "cell_type": "code",
   "execution_count": 11,
   "metadata": {},
   "outputs": [],
   "source": [
    "G=RKformula(Radau5.A,Radau5.B)"
   ]
  },
  {
   "cell_type": "code",
   "execution_count": 12,
   "metadata": {},
   "outputs": [
    {
     "data": {
      "text/plain": [
       "[                  1/9  -0.1916383190435099?  0.08052720793239878?]\n",
       "[                  1/9   0.2920734116652285? -0.04813349705465739?]\n",
       "[                  1/9   0.5370223859435463?   0.1968154772236605?]"
      ]
     },
     "execution_count": 12,
     "metadata": {},
     "output_type": "execute_result"
    }
   ],
   "source": [
    "G.A\n"
   ]
  },
  {
   "cell_type": "code",
   "execution_count": 13,
   "metadata": {},
   "outputs": [],
   "source": [
    "G.compute_all_properties()\n"
   ]
  },
  {
   "cell_type": "code",
   "execution_count": 14,
   "metadata": {},
   "outputs": [
    {
     "data": {
      "text/plain": [
       "True"
      ]
     },
     "execution_count": 14,
     "metadata": {},
     "output_type": "execute_result"
    }
   ],
   "source": [
    "F.stability_function()==G.stability_function()\n"
   ]
  },
  {
   "cell_type": "code",
   "execution_count": 15,
   "metadata": {},
   "outputs": [
    {
     "name": "stdout",
     "output_type": "stream",
     "text": [
      "->  is_module_of_stability_function_constant_on_Im  :\n",
      " False \n",
      "\n",
      "->  order_star_function  :\n",
      " abs((0.05*(x + I*y)^2 + 0.4*x + 0.4*I*y + 1.0)*e^(-x - I*y)/(-0.01666666666666667*(x + I*y)^3 + 0.15000000000000002*(x + I*y)^2 - 0.6000000000000001*x - 0.6000000000000001*I*y + 1.0)) \n",
      "\n",
      "->  is_Symplectic  :\n",
      " Unknown \n",
      "\n",
      "->  stability_on_real_negative_axis  :\n",
      " -Infinity \n",
      "\n",
      "->  is_stiffly_accurate  :\n",
      " True \n",
      "\n",
      "->  is_explicit  :\n",
      " False \n",
      "\n",
      "->  is_Symmetric  :\n",
      " False \n",
      "\n",
      "->  is_A_stable  :\n",
      " True \n",
      "\n",
      "->  conserve_quadratic_invariants  :\n",
      " False \n",
      "\n",
      "->  is_L_stable  :\n",
      " True \n",
      "\n",
      "->  is_module_of_stability_function_less_than_1  :\n",
      " True \n",
      "\n",
      "->  stability_function  :\n",
      " (1/20*z^2 + 2/5*z + 1)/(-1/60*z^3 + 3/20*z^2 - 3/5*z + 1) \n",
      "\n",
      "->  stability_function_on_im_axis  :\n",
      " (-1/20*x^2 + 2/5*I*x + 1)/(1/60*I*x^3 - 3/20*x^2 - 3/5*I*x + 1) \n",
      "\n",
      "->  A_is_invertible  :\n",
      " True \n",
      "\n",
      "->  order_of_stability_function  :\n",
      " 5 \n",
      "\n",
      "->  order  :\n",
      " 5 \n",
      "\n",
      "->  is_algebraically_stable  :\n",
      " False \n",
      "\n",
      "->  poles_of_stability_function  :\n",
      " [(3.637834252744496?, 1), (2.681082873627752? - 3.050430199247411?*I, 1), (2.681082873627752? + 3.050430199247411?*I, 1)] \n",
      "\n",
      "->  squared_module_of_stability_function_on_Im  :\n",
      " (1/1440000*x^4 + 1/60000*x^2 + 1/3600)/(1/12960000*x^6 + 1/1440000*x^4 + 1/60000*x^2 + 1/3600) \n",
      "\n",
      "->  real_part_of_poles_all_positive  :\n",
      " (True, 0) \n",
      "\n"
     ]
    }
   ],
   "source": [
    "G.print_all_known_properties()"
   ]
  },
  {
   "cell_type": "code",
   "execution_count": 16,
   "metadata": {},
   "outputs": [
    {
     "data": {
      "text/plain": [
       "(1/20*z^2 + 2/5*z + 1)/(-1/60*z^3 + 3/20*z^2 - 3/5*z + 1)"
      ]
     },
     "execution_count": 16,
     "metadata": {},
     "output_type": "execute_result"
    }
   ],
   "source": [
    "G.stability_function"
   ]
  },
  {
   "cell_type": "code",
   "execution_count": 17,
   "metadata": {},
   "outputs": [
    {
     "data": {
      "text/plain": [
       "(1/20*z^2 + 2/5*z + 1)/(-1/60*z^3 + 3/20*z^2 - 3/5*z + 1)"
      ]
     },
     "execution_count": 17,
     "metadata": {},
     "output_type": "execute_result"
    }
   ],
   "source": [
    "F.stability_function\n"
   ]
  },
  {
   "cell_type": "code",
   "execution_count": 18,
   "metadata": {},
   "outputs": [
    {
     "data": {
      "text/plain": [
       "(0.3764030627004673?, 0.5124858261884216?, 1/9)"
      ]
     },
     "execution_count": 18,
     "metadata": {},
     "output_type": "execute_result"
    }
   ],
   "source": [
    "F.B"
   ]
  },
  {
   "cell_type": "code",
   "execution_count": 19,
   "metadata": {},
   "outputs": [
    {
     "data": {
      "text/plain": [
       "(1/9, 0.5124858261884216?, 0.3764030627004673?)"
      ]
     },
     "execution_count": 19,
     "metadata": {},
     "output_type": "execute_result"
    }
   ],
   "source": [
    "G.B"
   ]
  },
  {
   "cell_type": "markdown",
   "metadata": {},
   "source": [
    "_Very strange!_ We did not find the same A and B as in HW book, but we found the same stability function."
   ]
  },
  {
   "cell_type": "markdown",
   "metadata": {},
   "source": [
    "### Now, order 3 radau method: ###"
   ]
  },
  {
   "cell_type": "code",
   "execution_count": 20,
   "metadata": {},
   "outputs": [
    {
     "name": "stdout",
     "output_type": "stream",
     "text": [
      "[0.3333333333333334?, 1.000000000000000?]\n"
     ]
    }
   ],
   "source": [
    "n=2\n",
    "c=[s[0] for s in diff(x^(n-1)*(x-1)^(n),x,n-1 ).roots()]\n",
    "print c"
   ]
  },
  {
   "cell_type": "code",
   "execution_count": 21,
   "metadata": {},
   "outputs": [],
   "source": [
    "A,B=colloc(c,R)\n",
    "F=RKformula(A,B)"
   ]
  },
  {
   "cell_type": "code",
   "execution_count": 22,
   "metadata": {},
   "outputs": [],
   "source": [
    "F.compute_all_properties()\n"
   ]
  },
  {
   "cell_type": "code",
   "execution_count": 23,
   "metadata": {},
   "outputs": [
    {
     "data": {
      "text/plain": [
       "3"
      ]
     },
     "execution_count": 23,
     "metadata": {},
     "output_type": "execute_result"
    }
   ],
   "source": [
    "F.order"
   ]
  },
  {
   "cell_type": "code",
   "execution_count": 24,
   "metadata": {},
   "outputs": [],
   "source": [
    "load(\"radau2a.sage\")"
   ]
  },
  {
   "cell_type": "code",
   "execution_count": 25,
   "metadata": {},
   "outputs": [
    {
     "data": {
      "text/plain": [
       "True"
      ]
     },
     "execution_count": 25,
     "metadata": {},
     "output_type": "execute_result"
    }
   ],
   "source": [
    "Radau2a.A==F.A and Radau2a.B==F.B\n"
   ]
  },
  {
   "cell_type": "code",
   "execution_count": null,
   "metadata": {},
   "outputs": [],
   "source": []
  }
 ],
 "metadata": {
  "kernelspec": {
   "display_name": "SageMath 8.3",
   "language": "",
   "name": "sagemath"
  },
  "language_info": {
   "codemirror_mode": {
    "name": "ipython",
    "version": 2
   },
   "file_extension": ".py",
   "mimetype": "text/x-python",
   "name": "python",
   "nbconvert_exporter": "python",
   "pygments_lexer": "ipython2",
   "version": "2.7.15"
  }
 },
 "nbformat": 4,
 "nbformat_minor": 2
}
