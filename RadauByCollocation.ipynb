{
 "cells": [
  {
   "cell_type": "code",
   "execution_count": 1,
   "metadata": {},
   "outputs": [],
   "source": [
    "from rkkit import *"
   ]
  },
  {
   "cell_type": "code",
   "execution_count": 2,
   "metadata": {},
   "outputs": [],
   "source": [
    "R = PolynomialRing(AA,\"x\")\n",
    "x=R.gen()"
   ]
  },
  {
   "cell_type": "markdown",
   "metadata": {},
   "source": [
    "### The Radau method, 3 steps ###"
   ]
  },
  {
   "cell_type": "code",
   "execution_count": 3,
   "metadata": {},
   "outputs": [],
   "source": [
    "n=3"
   ]
  },
  {
   "cell_type": "code",
   "execution_count": 4,
   "metadata": {},
   "outputs": [
    {
     "name": "stdout",
     "output_type": "stream",
     "text": [
      "[0.1550510257216822?, 0.6449489742783178?, 1.000000000000000?]\n"
     ]
    }
   ],
   "source": [
    "c=[s[0] for s in diff(x^(n-1)*(x-1)^(n),x,n-1 ).roots()]\n",
    "print(c)"
   ]
  },
  {
   "cell_type": "markdown",
   "metadata": {},
   "source": [
    "The RK. formula:"
   ]
  },
  {
   "cell_type": "code",
   "execution_count": 5,
   "metadata": {},
   "outputs": [],
   "source": [
    "GenRK = colloc(c,R,\"Radau-\"+str(n))\n",
    "F=RKformula(GenRK())"
   ]
  },
  {
   "cell_type": "code",
   "execution_count": 6,
   "metadata": {},
   "outputs": [
    {
     "data": {
      "text/plain": [
       "[  0.1968154772236605?  -0.0655354258501984?  0.02377097434822016?]\n",
       "[  0.3944243147390873?   0.2920734116652285? -0.04154875212599793?]\n",
       "[  0.3764030627004673?   0.5124858261884216?  0.11111111111111111?]"
      ]
     },
     "execution_count": 6,
     "metadata": {},
     "output_type": "execute_result"
    }
   ],
   "source": [
    "F.A"
   ]
  },
  {
   "cell_type": "code",
   "execution_count": 7,
   "metadata": {},
   "outputs": [
    {
     "data": {
      "text/plain": [
       "(0.3764030627004673?, 0.5124858261884216?, 0.11111111111111111?)"
      ]
     },
     "execution_count": 7,
     "metadata": {},
     "output_type": "execute_result"
    }
   ],
   "source": [
    "F.B"
   ]
  },
  {
   "cell_type": "code",
   "execution_count": 8,
   "metadata": {},
   "outputs": [],
   "source": [
    "F.compute_all_properties()\n"
   ]
  },
  {
   "cell_type": "code",
   "execution_count": 9,
   "metadata": {},
   "outputs": [
    {
     "name": "stdout",
     "output_type": "stream",
     "text": [
      "->  A_is_invertible  :  True \n",
      "\n",
      "->  stability_function  :  (-3*z^2 - 24*z - 60)/(z^3 - 9*z^2 + 36*z - 60) \n",
      "\n",
      "->  is_explicit  :  False \n",
      "\n",
      "->  poles_of_stability_function  :  [(3.637834252744496?, 1), (2.681082873627752? - 3.050430199247411?*I, 1), (2.681082873627752? + 3.050430199247411?*I, 1)] \n",
      "\n",
      "->  real_part_of_poles_all_positive  :  (True, 0) \n",
      "\n",
      "->  order_of_stability_function  :  5 \n",
      "\n",
      "->  stability_function_on_im_axis  :  (3*I*x^2 + 24*x - 60*I)/(x^3 + 9*I*x^2 - 36*x - 60*I) \n",
      "\n",
      "->  squared_module_of_stability_function_on_Im  :  (9*x^4 + 216*x^2 + 3600)/(x^6 + 9*x^4 + 216*x^2 + 3600) \n",
      "\n",
      "->  is_module_of_stability_function_constant_on_Im  :  False \n",
      "\n",
      "->  is_module_of_stability_function_less_than_1  :  True \n",
      "\n",
      "->  is_A_stable  :  True \n",
      "\n",
      "->  is_stiffly_accurate  :  True \n",
      "\n",
      "->  is_L_stable  :  True \n",
      "\n",
      "->  is_algebraically_stable  :  False \n",
      "\n",
      "->  is_Symmetric  :  False \n",
      "\n",
      "->  is_Symplectic  :  Unknown \n",
      "\n",
      "->  conserve_quadratic_invariants  :  False \n",
      "\n",
      "->  stability_on_real_negative_axis  :  -Infinity \n",
      "\n",
      "->  order  :  5 \n",
      "\n",
      "->  order_star_function  :  abs((-3.0*(x + I*y)^2 - 24.0*x - 24.0*I*y - 60.0)*e^(-x - I*y)/(1.0*(x + I*y)^3 - 9.0*(x + I*y)^2 + 36.0*x + 36.0*I*y - 60.0)) \n",
      "\n"
     ]
    }
   ],
   "source": [
    "F.print_all_known_properties()"
   ]
  },
  {
   "cell_type": "code",
   "execution_count": 10,
   "metadata": {
    "scrolled": true
   },
   "outputs": [],
   "source": [
    "load(\"./methods/radau5.sage\")"
   ]
  },
  {
   "cell_type": "code",
   "execution_count": 11,
   "metadata": {},
   "outputs": [],
   "source": [
    "G=RKformula(Radau5())"
   ]
  },
  {
   "cell_type": "code",
   "execution_count": 12,
   "metadata": {},
   "outputs": [
    {
     "data": {
      "text/plain": [
       "[                  1/9  -0.1916383190435099?  0.08052720793239878?]\n",
       "[                  1/9   0.2920734116652285? -0.04813349705465739?]\n",
       "[                  1/9   0.5370223859435463?   0.1968154772236605?]"
      ]
     },
     "execution_count": 12,
     "metadata": {},
     "output_type": "execute_result"
    }
   ],
   "source": [
    "G.A\n"
   ]
  },
  {
   "cell_type": "code",
   "execution_count": 13,
   "metadata": {},
   "outputs": [],
   "source": [
    "G.compute_all_properties()\n"
   ]
  },
  {
   "cell_type": "code",
   "execution_count": 14,
   "metadata": {},
   "outputs": [
    {
     "data": {
      "text/plain": [
       "True"
      ]
     },
     "execution_count": 14,
     "metadata": {},
     "output_type": "execute_result"
    }
   ],
   "source": [
    "F.stability_function()==G.stability_function()\n"
   ]
  },
  {
   "cell_type": "code",
   "execution_count": 15,
   "metadata": {},
   "outputs": [
    {
     "name": "stdout",
     "output_type": "stream",
     "text": [
      "->  A_is_invertible  :  True \n",
      "\n",
      "->  stability_function  :  (-3*z^2 - 24*z - 60)/(z^3 - 9*z^2 + 36*z - 60) \n",
      "\n",
      "->  is_explicit  :  False \n",
      "\n",
      "->  poles_of_stability_function  :  [(3.637834252744496?, 1), (2.681082873627752? - 3.050430199247411?*I, 1), (2.681082873627752? + 3.050430199247411?*I, 1)] \n",
      "\n",
      "->  real_part_of_poles_all_positive  :  (True, 0) \n",
      "\n",
      "->  order_of_stability_function  :  5 \n",
      "\n",
      "->  stability_function_on_im_axis  :  (3*I*x^2 + 24*x - 60*I)/(x^3 + 9*I*x^2 - 36*x - 60*I) \n",
      "\n",
      "->  squared_module_of_stability_function_on_Im  :  (9*x^4 + 216*x^2 + 3600)/(x^6 + 9*x^4 + 216*x^2 + 3600) \n",
      "\n",
      "->  is_module_of_stability_function_constant_on_Im  :  False \n",
      "\n",
      "->  is_module_of_stability_function_less_than_1  :  True \n",
      "\n",
      "->  is_A_stable  :  True \n",
      "\n",
      "->  is_stiffly_accurate  :  True \n",
      "\n",
      "->  is_L_stable  :  True \n",
      "\n",
      "->  is_algebraically_stable  :  False \n",
      "\n",
      "->  is_Symmetric  :  False \n",
      "\n",
      "->  is_Symplectic  :  Unknown \n",
      "\n",
      "->  conserve_quadratic_invariants  :  False \n",
      "\n",
      "->  stability_on_real_negative_axis  :  -Infinity \n",
      "\n",
      "->  order  :  5 \n",
      "\n",
      "->  order_star_function  :  abs((-3.0*(x + I*y)^2 - 24.0*x - 24.0*I*y - 60.0)*e^(-x - I*y)/(1.0*(x + I*y)^3 - 9.0*(x + I*y)^2 + 36.0*x + 36.0*I*y - 60.0)) \n",
      "\n"
     ]
    }
   ],
   "source": [
    "G.print_all_known_properties()"
   ]
  },
  {
   "cell_type": "code",
   "execution_count": 16,
   "metadata": {},
   "outputs": [
    {
     "data": {
      "text/plain": [
       "(-3*z^2 - 24*z - 60)/(z^3 - 9*z^2 + 36*z - 60)"
      ]
     },
     "execution_count": 16,
     "metadata": {},
     "output_type": "execute_result"
    }
   ],
   "source": [
    "G.stability_function()"
   ]
  },
  {
   "cell_type": "code",
   "execution_count": 17,
   "metadata": {},
   "outputs": [
    {
     "data": {
      "text/plain": [
       "(-3*z^2 - 24*z - 60)/(z^3 - 9*z^2 + 36*z - 60)"
      ]
     },
     "execution_count": 17,
     "metadata": {},
     "output_type": "execute_result"
    }
   ],
   "source": [
    "F.stability_function()\n"
   ]
  },
  {
   "cell_type": "code",
   "execution_count": 18,
   "metadata": {},
   "outputs": [
    {
     "data": {
      "text/plain": [
       "(0.3764030627004673?, 0.5124858261884216?, 1/9)"
      ]
     },
     "execution_count": 18,
     "metadata": {},
     "output_type": "execute_result"
    }
   ],
   "source": [
    "F.B"
   ]
  },
  {
   "cell_type": "code",
   "execution_count": 19,
   "metadata": {},
   "outputs": [
    {
     "data": {
      "text/plain": [
       "(1/9, 0.5124858261884216?, 0.3764030627004673?)"
      ]
     },
     "execution_count": 19,
     "metadata": {},
     "output_type": "execute_result"
    }
   ],
   "source": [
    "G.B"
   ]
  },
  {
   "cell_type": "markdown",
   "metadata": {},
   "source": [
    "_Very strange!_ We did not find the same A and B as in HW book, but we found the same stability function."
   ]
  },
  {
   "cell_type": "markdown",
   "metadata": {},
   "source": [
    "### Now, order 3 radau method: ###"
   ]
  },
  {
   "cell_type": "code",
   "execution_count": 20,
   "metadata": {},
   "outputs": [
    {
     "name": "stdout",
     "output_type": "stream",
     "text": [
      "[0.3333333333333334?, 1.000000000000000?]\n"
     ]
    }
   ],
   "source": [
    "R = PolynomialRing(AA,\"x\")\n",
    "n=2\n",
    "c=[s[0] for s in diff(x^(n-1)*(x-1)^(n),x,n-1 ).roots()]\n",
    "print(c)"
   ]
  },
  {
   "cell_type": "code",
   "execution_count": 21,
   "metadata": {},
   "outputs": [],
   "source": [
    "GenRK = colloc(c,R)\n",
    "F=RKformula(GenRK())"
   ]
  },
  {
   "cell_type": "code",
   "execution_count": 22,
   "metadata": {},
   "outputs": [],
   "source": [
    "F.compute_all_properties()\n"
   ]
  },
  {
   "cell_type": "code",
   "execution_count": 23,
   "metadata": {},
   "outputs": [
    {
     "data": {
      "text/plain": [
       "3"
      ]
     },
     "execution_count": 23,
     "metadata": {},
     "output_type": "execute_result"
    }
   ],
   "source": [
    "F.order()"
   ]
  },
  {
   "cell_type": "code",
   "execution_count": 24,
   "metadata": {},
   "outputs": [],
   "source": [
    "load(\"./methods/radau2a.sage\")"
   ]
  },
  {
   "cell_type": "code",
   "execution_count": 25,
   "metadata": {},
   "outputs": [
    {
     "data": {
      "text/plain": [
       "True"
      ]
     },
     "execution_count": 25,
     "metadata": {},
     "output_type": "execute_result"
    }
   ],
   "source": [
    "Radau2a().A==F.A and Radau2a().B==F.B\n"
   ]
  }
 ],
 "metadata": {
  "kernelspec": {
   "display_name": "SageMath 9.1",
   "language": "sage",
   "name": "sagemath"
  },
  "language_info": {
   "codemirror_mode": {
    "name": "ipython",
    "version": 3
   },
   "file_extension": ".py",
   "mimetype": "text/x-python",
   "name": "python",
   "nbconvert_exporter": "python",
   "pygments_lexer": "ipython3",
   "version": "3.7.3"
  }
 },
 "nbformat": 4,
 "nbformat_minor": 2
}
