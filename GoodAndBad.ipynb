{
 "cells": [
  {
   "cell_type": "markdown",
   "id": "41e1364b-6e10-431d-8911-7ffcc9f9187a",
   "metadata": {},
   "source": [
    "## This small notebook illustrates how to create a Runge-Kutta method.\n",
    "\n",
    "Remember that we must use exact sets of number, namely (real) algebraic nubers (AA or QQbar) or rationals (QQ)."
   ]
  },
  {
   "cell_type": "code",
   "execution_count": 1,
   "id": "19048071-0b97-45b5-a438-47d9d6bc38e8",
   "metadata": {},
   "outputs": [],
   "source": [
    "from sage.all import *\n",
    "from rkkit import *\n",
    "from rkkit.RKRungeKutta import *\n",
    "from methods.formulas import *"
   ]
  },
  {
   "cell_type": "markdown",
   "id": "e0929ac6-ceb3-456e-b629-ced625311071",
   "metadata": {},
   "source": [
    " A \"good\" initialization (this the classical explicit RK4 mathod)"
   ]
  },
  {
   "cell_type": "code",
   "execution_count": 2,
   "id": "ac16798f-852f-4883-9bf3-fb8d00514fc4",
   "metadata": {},
   "outputs": [],
   "source": [
    "class GoodRK4(RungeKutta):\n",
    "    def __init__(self):\n",
    "        title=\"Classical Runge-Kutta 4 explicit method\"\n",
    "        A=matrix(AA,[[0,0,0,0],[1/AA(2),0,0,0],\n",
    "                     [0,1/AA(2),0,0],[0,0,1,0]])\n",
    "        B=vector(AA,[1/AA(6),2/AA(6),2/AA(6),1/AA(6)])\n",
    "        super().__init__(A,B,title)"
   ]
  },
  {
   "cell_type": "code",
   "execution_count": 3,
   "id": "67620dba-7a00-4223-9202-ece1f1912ceb",
   "metadata": {},
   "outputs": [],
   "source": [
    "Good=RKformula(GoodRK4())"
   ]
  },
  {
   "cell_type": "markdown",
   "id": "535a356f-8471-4e63-8579-91619664606e",
   "metadata": {},
   "source": [
    "A \"bad\" initialization, but which could appear as \"good\":"
   ]
  },
  {
   "cell_type": "code",
   "execution_count": 4,
   "id": "37dd22f7-0936-47ba-b2cf-dbf93a3a685a",
   "metadata": {},
   "outputs": [],
   "source": [
    "class BadRK4(RungeKutta):\n",
    "    def __init__(self):\n",
    "        title=\"Classical Runge-Kutta 4 explicit method\"\n",
    "        A=matrix(AA,[[0,0,0,0],[1/2,0,0,0],\n",
    "                     [0,1/2,0,0],[0,0,1,0]])\n",
    "        B=vector(AA,[1/6,2/6,2/6,1/6])\n",
    "        super().__init__(A,B,title)\n"
   ]
  },
  {
   "cell_type": "code",
   "execution_count": 5,
   "id": "8313ce67-2114-48dc-a485-1da407811715",
   "metadata": {},
   "outputs": [],
   "source": [
    "Bad=RKformula(BadRK4())"
   ]
  },
  {
   "cell_type": "code",
   "execution_count": 6,
   "id": "c1d354ae-3b3a-48c3-9cf2-2dfc6d4419da",
   "metadata": {},
   "outputs": [
    {
     "data": {
      "text/plain": [
       "[  0   0   0   0]\n",
       "[1/2   0   0   0]\n",
       "[  0 1/2   0   0]\n",
       "[  0   0   1   0]"
      ]
     },
     "execution_count": 6,
     "metadata": {},
     "output_type": "execute_result"
    }
   ],
   "source": [
    "Bad.A"
   ]
  },
  {
   "cell_type": "markdown",
   "id": "978df1e2-6411-46b2-9525-c29a53486966",
   "metadata": {},
   "source": [
    "### Note that:\n",
    "\n",
    "-Here everything is ok, since \"BadRK4\" was transformed by sage _preparser_\n",
    "\n",
    "-But if we import \"veryBad\" from methods.formulas, which is a python file (have a look at the bottom of methods/formulas), it is **not** _preparsed_ by sage. Run the next cell and hav a look at error message:"
   ]
  },
  {
   "cell_type": "code",
   "execution_count": 7,
   "id": "18c05de6-06c9-4e5d-b921-0e6545ce34ba",
   "metadata": {},
   "outputs": [
    {
     "ename": "TypeError",
     "evalue": "Illegal initializer for algebraic number",
     "output_type": "error",
     "traceback": [
      "\u001b[0;31m---------------------------------------------------------------------------\u001b[0m",
      "\u001b[0;31mTypeError\u001b[0m                                 Traceback (most recent call last)",
      "Cell \u001b[0;32mIn[7], line 1\u001b[0m\n\u001b[0;32m----> 1\u001b[0m v\u001b[38;5;241m=\u001b[39m\u001b[43mveryBad\u001b[49m\u001b[43m(\u001b[49m\u001b[43m)\u001b[49m\n",
      "File \u001b[0;32m~/Codes/RKkit/methods/formulas.py:96\u001b[0m, in \u001b[0;36mveryBad.__init__\u001b[0;34m(self)\u001b[0m\n\u001b[1;32m     94\u001b[0m title\u001b[38;5;241m=\u001b[39m\u001b[38;5;124m\"\u001b[39m\u001b[38;5;124mClassical Runge-Kutta 4 explicit method, ill coded\u001b[39m\u001b[38;5;124m\"\u001b[39m\n\u001b[1;32m     95\u001b[0m \u001b[38;5;66;03m# 1/2,2/6 ... will be converted into floats, which are not exact!\u001b[39;00m\n\u001b[0;32m---> 96\u001b[0m A\u001b[38;5;241m=\u001b[39m\u001b[43mmatrix\u001b[49m\u001b[43m(\u001b[49m\u001b[43mAA\u001b[49m\u001b[43m,\u001b[49m\u001b[43m[\u001b[49m\u001b[43m[\u001b[49m\u001b[38;5;241;43m0\u001b[39;49m\u001b[43m,\u001b[49m\u001b[38;5;241;43m0\u001b[39;49m\u001b[43m,\u001b[49m\u001b[38;5;241;43m0\u001b[39;49m\u001b[43m,\u001b[49m\u001b[38;5;241;43m0\u001b[39;49m\u001b[43m]\u001b[49m\u001b[43m,\u001b[49m\u001b[43m[\u001b[49m\u001b[38;5;241;43m1\u001b[39;49m\u001b[38;5;241;43m/\u001b[39;49m\u001b[38;5;241;43m2\u001b[39;49m\u001b[43m,\u001b[49m\u001b[38;5;241;43m0\u001b[39;49m\u001b[43m,\u001b[49m\u001b[38;5;241;43m0\u001b[39;49m\u001b[43m,\u001b[49m\u001b[38;5;241;43m0\u001b[39;49m\u001b[43m]\u001b[49m\u001b[43m,\u001b[49m\n\u001b[1;32m     97\u001b[0m \u001b[43m             \u001b[49m\u001b[43m[\u001b[49m\u001b[38;5;241;43m0\u001b[39;49m\u001b[43m,\u001b[49m\u001b[38;5;241;43m1\u001b[39;49m\u001b[38;5;241;43m/\u001b[39;49m\u001b[38;5;241;43m2\u001b[39;49m\u001b[43m,\u001b[49m\u001b[38;5;241;43m0\u001b[39;49m\u001b[43m,\u001b[49m\u001b[38;5;241;43m0\u001b[39;49m\u001b[43m]\u001b[49m\u001b[43m,\u001b[49m\u001b[43m[\u001b[49m\u001b[38;5;241;43m0\u001b[39;49m\u001b[43m,\u001b[49m\u001b[38;5;241;43m0\u001b[39;49m\u001b[43m,\u001b[49m\u001b[38;5;241;43m1\u001b[39;49m\u001b[43m,\u001b[49m\u001b[38;5;241;43m0\u001b[39;49m\u001b[43m]\u001b[49m\u001b[43m]\u001b[49m\u001b[43m)\u001b[49m\n\u001b[1;32m     98\u001b[0m B\u001b[38;5;241m=\u001b[39mvector(AA,[\u001b[38;5;241m1\u001b[39m\u001b[38;5;241m/\u001b[39m\u001b[38;5;241m6\u001b[39m,\u001b[38;5;241m2\u001b[39m\u001b[38;5;241m/\u001b[39m\u001b[38;5;241m6\u001b[39m,\u001b[38;5;241m2\u001b[39m\u001b[38;5;241m/\u001b[39m\u001b[38;5;241m6\u001b[39m,\u001b[38;5;241m1\u001b[39m\u001b[38;5;241m/\u001b[39m\u001b[38;5;241m6\u001b[39m])\n\u001b[1;32m     99\u001b[0m \u001b[38;5;28msuper\u001b[39m()\u001b[38;5;241m.\u001b[39m\u001b[38;5;21m__init__\u001b[39m(A,B,title)\n",
      "File \u001b[0;32m/usr/local/sages/sage/src/sage/matrix/constructor.pyx:675\u001b[0m, in \u001b[0;36msage.matrix.constructor.matrix\u001b[0;34m()\u001b[0m\n\u001b[1;32m    673\u001b[0m \"\"\"\n\u001b[1;32m    674\u001b[0m immutable = kwds.pop('immutable', False)\n\u001b[0;32m--> 675\u001b[0m return MatrixArgs(*args, **kwds).element(immutable=immutable)\n\u001b[1;32m    676\u001b[0m \n\u001b[1;32m    677\u001b[0m \n",
      "File \u001b[0;32m/usr/local/sages/sage/src/sage/matrix/args.pyx:809\u001b[0m, in \u001b[0;36msage.matrix.args.MatrixArgs.element\u001b[0;34m()\u001b[0m\n\u001b[1;32m    807\u001b[0m \"\"\"\n\u001b[1;32m    808\u001b[0m self.finalize()\n\u001b[0;32m--> 809\u001b[0m cdef Matrix M = self.matrix(convert=True)\n\u001b[1;32m    810\u001b[0m if immutable:\n\u001b[1;32m    811\u001b[0m     M.set_immutable()\n",
      "File \u001b[0;32m/usr/local/sages/sage/src/sage/matrix/args.pyx:758\u001b[0m, in \u001b[0;36msage.matrix.args.MatrixArgs.matrix\u001b[0;34m()\u001b[0m\n\u001b[1;32m    756\u001b[0m     if not isinstance(space, MatrixSpace):\n\u001b[1;32m    757\u001b[0m         space = space.zero().matrix(side='left').parent()\n\u001b[0;32m--> 758\u001b[0m     M = space(self, coerce=convert)\n\u001b[1;32m    759\u001b[0m \n\u001b[1;32m    760\u001b[0m # Also store the matrix to support multiple calls of matrix()\n",
      "File \u001b[0;32m/usr/local/sages/sage/src/sage/structure/parent.pyx:902\u001b[0m, in \u001b[0;36msage.structure.parent.Parent.__call__\u001b[0;34m()\u001b[0m\n\u001b[1;32m    900\u001b[0m         return mor._call_(x)\n\u001b[1;32m    901\u001b[0m     else:\n\u001b[0;32m--> 902\u001b[0m         return mor._call_with_args(x, args, kwds)\n\u001b[1;32m    903\u001b[0m \n\u001b[1;32m    904\u001b[0m raise TypeError(_LazyString(\"No conversion defined from %s to %s\", (R, self), {}))\n",
      "File \u001b[0;32m/usr/local/sages/sage/src/sage/structure/coerce_maps.pyx:183\u001b[0m, in \u001b[0;36msage.structure.coerce_maps.DefaultConvertMap_unique._call_with_args\u001b[0;34m()\u001b[0m\n\u001b[1;32m    181\u001b[0m     print(type(C), C)\n\u001b[1;32m    182\u001b[0m     print(type(C._element_constructor), C._element_constructor)\n\u001b[0;32m--> 183\u001b[0m raise\n\u001b[1;32m    184\u001b[0m \n\u001b[1;32m    185\u001b[0m \n",
      "File \u001b[0;32m/usr/local/sages/sage/src/sage/structure/coerce_maps.pyx:173\u001b[0m, in \u001b[0;36msage.structure.coerce_maps.DefaultConvertMap_unique._call_with_args\u001b[0;34m()\u001b[0m\n\u001b[1;32m    171\u001b[0m         return C._element_constructor(x)\n\u001b[1;32m    172\u001b[0m     else:\n\u001b[0;32m--> 173\u001b[0m         return C._element_constructor(x, **kwds)\n\u001b[1;32m    174\u001b[0m else:\n\u001b[1;32m    175\u001b[0m     if len(kwds) == 0:\n",
      "File \u001b[0;32m/usr/local/sages/sage/src/sage/matrix/matrix_space.py:1172\u001b[0m, in \u001b[0;36mMatrixSpace._element_constructor_\u001b[0;34m(self, entries, **kwds)\u001b[0m\n\u001b[1;32m   1054\u001b[0m \u001b[38;5;28;01mdef\u001b[39;00m \u001b[38;5;21m_element_constructor_\u001b[39m(\u001b[38;5;28mself\u001b[39m, entries, \u001b[38;5;241m*\u001b[39m\u001b[38;5;241m*\u001b[39mkwds):\n\u001b[1;32m   1055\u001b[0m \u001b[38;5;250m    \u001b[39m\u001b[38;5;124;03m\"\"\"\u001b[39;00m\n\u001b[1;32m   1056\u001b[0m \u001b[38;5;124;03m    Construct an element of ``self`` from ``entries``.\u001b[39;00m\n\u001b[1;32m   1057\u001b[0m \n\u001b[0;32m   (...)\u001b[0m\n\u001b[1;32m   1170\u001b[0m \u001b[38;5;124;03m        False\u001b[39;00m\n\u001b[1;32m   1171\u001b[0m \u001b[38;5;124;03m    \"\"\"\u001b[39;00m\n\u001b[0;32m-> 1172\u001b[0m     \u001b[38;5;28;01mreturn\u001b[39;00m \u001b[38;5;28;43mself\u001b[39;49m\u001b[38;5;241;43m.\u001b[39;49m\u001b[43melement_class\u001b[49m\u001b[43m(\u001b[49m\u001b[38;5;28;43mself\u001b[39;49m\u001b[43m,\u001b[49m\u001b[43m \u001b[49m\u001b[43mentries\u001b[49m\u001b[43m,\u001b[49m\u001b[43m \u001b[49m\u001b[38;5;241;43m*\u001b[39;49m\u001b[38;5;241;43m*\u001b[39;49m\u001b[43mkwds\u001b[49m\u001b[43m)\u001b[49m\n",
      "File \u001b[0;32m/usr/local/sages/sage/src/sage/matrix/matrix_generic_dense.pyx:82\u001b[0m, in \u001b[0;36msage.matrix.matrix_generic_dense.Matrix_generic_dense.__init__\u001b[0;34m()\u001b[0m\n\u001b[1;32m     80\u001b[0m     \"\"\"\n\u001b[1;32m     81\u001b[0m     ma = MatrixArgs_init(parent, entries)\n\u001b[0;32m---> 82\u001b[0m     self._entries = ma.list(coerce)\n\u001b[1;32m     83\u001b[0m \n\u001b[1;32m     84\u001b[0m cdef Matrix_generic_dense _new(self, Py_ssize_t nrows, Py_ssize_t ncols):\n",
      "File \u001b[0;32m/usr/local/sages/sage/src/sage/matrix/args.pyx:872\u001b[0m, in \u001b[0;36msage.matrix.args.MatrixArgs.list\u001b[0;34m()\u001b[0m\n\u001b[1;32m    870\u001b[0m             L = L[:]\n\u001b[1;32m    871\u001b[0m else:\n\u001b[0;32m--> 872\u001b[0m     L = list(self.iter(convert))\n\u001b[1;32m    873\u001b[0m \n\u001b[1;32m    874\u001b[0m cdef long N = self.nrows * self.ncols\n",
      "File \u001b[0;32m/usr/local/sages/sage/src/sage/matrix/args.pyx:611\u001b[0m, in \u001b[0;36miter\u001b[0;34m()\u001b[0m\n\u001b[1;32m    609\u001b[0m x = next(it)\n\u001b[1;32m    610\u001b[0m if convert and self.need_to_convert(x):\n\u001b[0;32m--> 611\u001b[0m     x = self.base(x)\n\u001b[1;32m    612\u001b[0m if sparse:\n\u001b[1;32m    613\u001b[0m     yield make_SparseEntry(i, j, x)\n",
      "File \u001b[0;32m/usr/local/sages/sage/src/sage/structure/parent.pyx:900\u001b[0m, in \u001b[0;36msage.structure.parent.Parent.__call__\u001b[0;34m()\u001b[0m\n\u001b[1;32m    898\u001b[0m if mor is not None:\n\u001b[1;32m    899\u001b[0m     if no_extra_args:\n\u001b[0;32m--> 900\u001b[0m         return mor._call_(x)\n\u001b[1;32m    901\u001b[0m     else:\n\u001b[1;32m    902\u001b[0m         return mor._call_with_args(x, args, kwds)\n",
      "File \u001b[0;32m/usr/local/sages/sage/src/sage/structure/coerce_maps.pyx:164\u001b[0m, in \u001b[0;36msage.structure.coerce_maps.DefaultConvertMap_unique._call_\u001b[0;34m()\u001b[0m\n\u001b[1;32m    162\u001b[0m             print(type(C), C)\n\u001b[1;32m    163\u001b[0m             print(type(C._element_constructor), C._element_constructor)\n\u001b[0;32m--> 164\u001b[0m         raise\n\u001b[1;32m    165\u001b[0m \n\u001b[1;32m    166\u001b[0m cpdef Element _call_with_args(self, x, args=(), kwds={}):\n",
      "File \u001b[0;32m/usr/local/sages/sage/src/sage/structure/coerce_maps.pyx:159\u001b[0m, in \u001b[0;36msage.structure.coerce_maps.DefaultConvertMap_unique._call_\u001b[0;34m()\u001b[0m\n\u001b[1;32m    157\u001b[0m cdef Parent C = self._codomain\n\u001b[1;32m    158\u001b[0m try:\n\u001b[0;32m--> 159\u001b[0m     return C._element_constructor(x)\n\u001b[1;32m    160\u001b[0m except Exception:\n\u001b[1;32m    161\u001b[0m     if print_warnings:\n",
      "File \u001b[0;32m/usr/local/sages/sage/src/sage/rings/qqbar.py:1163\u001b[0m, in \u001b[0;36mAlgebraicRealField._element_constructor_\u001b[0;34m(self, x)\u001b[0m\n\u001b[1;32m   1161\u001b[0m \u001b[38;5;28;01melif\u001b[39;00m \u001b[38;5;28mhasattr\u001b[39m(x, \u001b[38;5;124m'\u001b[39m\u001b[38;5;124m_algebraic_\u001b[39m\u001b[38;5;124m'\u001b[39m):\n\u001b[1;32m   1162\u001b[0m     \u001b[38;5;28;01mreturn\u001b[39;00m x\u001b[38;5;241m.\u001b[39m_algebraic_(AA)\n\u001b[0;32m-> 1163\u001b[0m \u001b[38;5;28;01mreturn\u001b[39;00m \u001b[43mAlgebraicReal\u001b[49m\u001b[43m(\u001b[49m\u001b[43mx\u001b[49m\u001b[43m)\u001b[49m\n",
      "File \u001b[0;32m/usr/local/sages/sage/src/sage/rings/qqbar.py:5574\u001b[0m, in \u001b[0;36mAlgebraicReal.__init__\u001b[0;34m(self, x)\u001b[0m\n\u001b[1;32m   5558\u001b[0m \u001b[38;5;28;01mdef\u001b[39;00m \u001b[38;5;21m__init__\u001b[39m(\u001b[38;5;28mself\u001b[39m, x):\n\u001b[1;32m   5559\u001b[0m \u001b[38;5;250m    \u001b[39m\u001b[38;5;124;03m\"\"\"\u001b[39;00m\n\u001b[1;32m   5560\u001b[0m \u001b[38;5;124;03m    Create an algebraic real from x, possibly taking the real part of x.\u001b[39;00m\n\u001b[1;32m   5561\u001b[0m \n\u001b[0;32m   (...)\u001b[0m\n\u001b[1;32m   5572\u001b[0m \u001b[38;5;124;03m        -1.414213562373095?\u001b[39;00m\n\u001b[1;32m   5573\u001b[0m \u001b[38;5;124;03m    \"\"\"\u001b[39;00m\n\u001b[0;32m-> 5574\u001b[0m     \u001b[43mAlgebraicNumber_base\u001b[49m\u001b[38;5;241;43m.\u001b[39;49m\u001b[38;5;21;43m__init__\u001b[39;49m\u001b[43m(\u001b[49m\u001b[38;5;28;43mself\u001b[39;49m\u001b[43m,\u001b[49m\u001b[43m \u001b[49m\u001b[43mAA\u001b[49m\u001b[43m,\u001b[49m\u001b[43m \u001b[49m\u001b[43mx\u001b[49m\u001b[43m)\u001b[49m\n\u001b[1;32m   5575\u001b[0m     \u001b[38;5;28mself\u001b[39m\u001b[38;5;241m.\u001b[39m_ensure_real()\n",
      "File \u001b[0;32m/usr/local/sages/sage/src/sage/rings/qqbar.py:3815\u001b[0m, in \u001b[0;36mAlgebraicNumber_base.__init__\u001b[0;34m(self, parent, x)\u001b[0m\n\u001b[1;32m   3813\u001b[0m         \u001b[38;5;28mself\u001b[39m\u001b[38;5;241m.\u001b[39m_descr \u001b[38;5;241m=\u001b[39m ANExtensionElement(QQbar_I_generator, QQbar_I_nf([x[\u001b[38;5;241m0\u001b[39m], \u001b[38;5;241m-\u001b[39mx[\u001b[38;5;241m1\u001b[39m]]))\n\u001b[1;32m   3814\u001b[0m \u001b[38;5;28;01melse\u001b[39;00m:\n\u001b[0;32m-> 3815\u001b[0m     \u001b[38;5;28;01mraise\u001b[39;00m \u001b[38;5;167;01mTypeError\u001b[39;00m(\u001b[38;5;124m\"\u001b[39m\u001b[38;5;124mIllegal initializer for algebraic number\u001b[39m\u001b[38;5;124m\"\u001b[39m)\n\u001b[1;32m   3817\u001b[0m prec \u001b[38;5;241m=\u001b[39m \u001b[38;5;241m64\u001b[39m\n\u001b[1;32m   3818\u001b[0m \u001b[38;5;28mself\u001b[39m\u001b[38;5;241m.\u001b[39m_value \u001b[38;5;241m=\u001b[39m \u001b[38;5;28mself\u001b[39m\u001b[38;5;241m.\u001b[39m_descr\u001b[38;5;241m.\u001b[39m_interval_fast(prec)\n",
      "\u001b[0;31mTypeError\u001b[0m: Illegal initializer for algebraic number"
     ]
    }
   ],
   "source": [
    "v=veryBad()"
   ]
  },
  {
   "cell_type": "markdown",
   "id": "74e336a8-bb2c-42fe-b752-76b2cd065e43",
   "metadata": {},
   "source": [
    "The TypeError says that (some) nembers could not be coerced to algebraic numbers (because they where transformed into floats).\n"
   ]
  },
  {
   "cell_type": "markdown",
   "id": "056ebb55-cf05-485e-ad76-be1cc86b0cda",
   "metadata": {},
   "source": [
    "## Always code your formulas as in \"GoodRK4\" at the top of this notebook!\n",
    "\n",
    "Code 1/AA(2) and not 1/2, for example.\n"
   ]
  },
  {
   "cell_type": "code",
   "execution_count": null,
   "id": "2f6a0fef-d32a-44e3-9bf7-7d7aab60eda9",
   "metadata": {},
   "outputs": [],
   "source": []
  }
 ],
 "metadata": {
  "kernelspec": {
   "display_name": "SageMath 10.6",
   "language": "sage",
   "name": "sagemath"
  },
  "language_info": {
   "codemirror_mode": {
    "name": "ipython",
    "version": 3
   },
   "file_extension": ".py",
   "mimetype": "text/x-python",
   "name": "python",
   "nbconvert_exporter": "python",
   "pygments_lexer": "ipython3",
   "version": "3.13.3"
  }
 },
 "nbformat": 4,
 "nbformat_minor": 5
}
