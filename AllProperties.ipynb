{
 "cells": [
  {
   "cell_type": "markdown",
   "metadata": {},
   "source": [
    "## Make all implemented tests on a Runge-Kutta formula ##"
   ]
  },
  {
   "cell_type": "markdown",
   "metadata": {},
   "source": [
    "_RKformula_ has a method  _compute_ _all_ _properties()_.\n",
    "\n",
    "Let us, for axample compute \"all\" the properties of a Gauss formula. "
   ]
  },
  {
   "cell_type": "code",
   "execution_count": 7,
   "metadata": {},
   "outputs": [],
   "source": [
    "from sage.all import *\n",
    "from rkkit import *"
   ]
  },
  {
   "cell_type": "code",
   "execution_count": 8,
   "metadata": {},
   "outputs": [],
   "source": [
    "R = PolynomialRing(AA,\"x\")\n",
    "x=R.gen()"
   ]
  },
  {
   "cell_type": "code",
   "execution_count": 9,
   "metadata": {},
   "outputs": [],
   "source": [
    "n=2"
   ]
  },
  {
   "cell_type": "code",
   "execution_count": 10,
   "metadata": {},
   "outputs": [],
   "source": [
    "c = [(s[0]+1)/2 for s in R(legendre_P(n,x)).roots()]\n",
    "R=RKcolloc.colloc(c,R,\"colloc-\"+str(n))"
   ]
  },
  {
   "cell_type": "code",
   "execution_count": 11,
   "metadata": {},
   "outputs": [],
   "source": [
    "F=RKformula(R())"
   ]
  },
  {
   "cell_type": "markdown",
   "metadata": {},
   "source": [
    "The following computation can take time (if the order is high; n=3 is relatively high!))."
   ]
  },
  {
   "cell_type": "code",
   "execution_count": 12,
   "metadata": {},
   "outputs": [],
   "source": [
    "F.compute_all_properties()"
   ]
  },
  {
   "cell_type": "code",
   "execution_count": 13,
   "metadata": {},
   "outputs": [
    {
     "name": "stdout",
     "output_type": "stream",
     "text": [
      "->  A_is_invertible  :  True \n",
      "\n",
      "->  stability_function  :  (z^2 + 6*z + 12)/(z^2 - 6*z + 12) \n",
      "\n",
      "->  is_explicit  :  False \n",
      "\n",
      "->  poles_of_stability_function  :  [(3.000000000000000? - 1.732050807568878?*I, 1), (3.000000000000000? + 1.732050807568878?*I, 1)] \n",
      "\n",
      "->  real_part_of_poles_all_positive  :  (True, 0) \n",
      "\n",
      "->  order_of_stability_function  :  4 \n",
      "\n",
      "->  stability_function_on_im_axis  :  (x^2 - 6*I*x - 12)/(x^2 + 6*I*x - 12) \n",
      "\n",
      "->  squared_module_of_stability_function_on_Im  :  1 \n",
      "\n",
      "->  is_module_of_stability_function_constant_on_Im  :  True \n",
      "\n",
      "->  is_module_of_stability_function_less_than_1  :  True \n",
      "\n",
      "->  is_A_stable  :  True \n",
      "\n",
      "->  is_stiffly_accurate  :  False \n",
      "\n",
      "->  R_infinite  :  1 \n",
      "\n",
      "->  is_L_stable  :  False \n",
      "\n",
      "->  is_algebraically_stable  :  True \n",
      "\n",
      "->  is_Symmetric  :  True \n",
      "\n",
      "->  is_Symplectic  :  True \n",
      "\n",
      "->  conserve_quadratic_invariants  :  True \n",
      "\n",
      "->  stability_on_real_negative_axis  :  -Infinity \n",
      "\n",
      "->  order  :  4 \n",
      "\n",
      "->  order_star_function  :  abs((1.0*(x + I*y)^2 + 6.0*x + 6.0*I*y + 12.0)*e^(-x - I*y)/(1.0*(x + I*y)^2 - 6.0*x - 6.0*I*y + 12.0)) \n",
      "\n"
     ]
    }
   ],
   "source": [
    "F.print_all_known_properties()"
   ]
  },
  {
   "cell_type": "code",
   "execution_count": null,
   "metadata": {},
   "outputs": [],
   "source": []
  }
 ],
 "metadata": {
  "kernelspec": {
   "display_name": "SageMath 10.6",
   "language": "sage",
   "name": "sagemath"
  },
  "language_info": {
   "codemirror_mode": {
    "name": "ipython",
    "version": 3
   },
   "file_extension": ".py",
   "mimetype": "text/x-python",
   "name": "python",
   "nbconvert_exporter": "python",
   "pygments_lexer": "ipython3",
   "version": "3.13.3"
  }
 },
 "nbformat": 4,
 "nbformat_minor": 4
}
