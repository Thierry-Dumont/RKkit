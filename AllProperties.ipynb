{
 "cells": [
  {
   "cell_type": "markdown",
   "metadata": {},
   "source": [
    "## Make all implemented tests on a Runge-Kutta formula ##"
   ]
  },
  {
   "cell_type": "markdown",
   "metadata": {},
   "source": [
    "_RKformula_ has a method  _compute_ _all_ _properties()_.\n",
    "\n",
    "Let us, for axample compute \"all\" the properties of a Gauss formula. "
   ]
  },
  {
   "cell_type": "code",
   "execution_count": 1,
   "metadata": {},
   "outputs": [],
   "source": [
    "from rkkit import *"
   ]
  },
  {
   "cell_type": "code",
   "execution_count": 2,
   "metadata": {},
   "outputs": [],
   "source": [
    "R = PolynomialRing(AA,\"x\")\n",
    "x=R.gen()"
   ]
  },
  {
   "cell_type": "code",
   "execution_count": 3,
   "metadata": {},
   "outputs": [],
   "source": [
    "n=3"
   ]
  },
  {
   "cell_type": "code",
   "execution_count": 4,
   "metadata": {},
   "outputs": [],
   "source": [
    "c = [(s[0]+1)/2 for s in R(legendre_P(n,x)).roots()]\n",
    "R=colloc(c,R,\"colloc-\"+str(n))"
   ]
  },
  {
   "cell_type": "code",
   "execution_count": 5,
   "metadata": {},
   "outputs": [],
   "source": [
    "F=RKformula(R())"
   ]
  },
  {
   "cell_type": "markdown",
   "metadata": {},
   "source": [
    "The following computation can take time (if the order is high)."
   ]
  },
  {
   "cell_type": "code",
   "execution_count": 6,
   "metadata": {},
   "outputs": [],
   "source": [
    "F.compute_all_properties()"
   ]
  },
  {
   "cell_type": "code",
   "execution_count": 7,
   "metadata": {},
   "outputs": [
    {
     "name": "stdout",
     "output_type": "stream",
     "text": [
      "->  A_is_invertible  :  True \n",
      "\n",
      "->  stability_function  :  (-z^3 - 12*z^2 - 60*z - 120)/(z^3 - 12*z^2 + 60*z - 120) \n",
      "\n",
      "->  is_explicit  :  False \n",
      "\n",
      "->  poles_of_stability_function  :  [(4.644370709252172?, 1), (3.677814645373915? - 3.508761919567443?*I, 1), (3.677814645373915? + 3.508761919567443?*I, 1)] \n",
      "\n",
      "->  real_part_of_poles_all_positive  :  (True, 0) \n",
      "\n",
      "->  order_of_stability_function  :  6 \n",
      "\n",
      "->  stability_function_on_im_axis  :  (-x^3 + 12*I*x^2 + 60*x - 120*I)/(x^3 + 12*I*x^2 - 60*x - 120*I) \n",
      "\n",
      "->  squared_module_of_stability_function_on_Im  :  1 \n",
      "\n",
      "->  is_module_of_stability_function_constant_on_Im  :  True \n",
      "\n",
      "->  is_module_of_stability_function_less_than_1  :  True \n",
      "\n",
      "->  is_A_stable  :  True \n",
      "\n",
      "->  is_stiffly_accurate  :  False \n",
      "\n",
      "->  R_infinite  :  -1 \n",
      "\n",
      "->  is_L_stable  :  False \n",
      "\n",
      "->  is_algebraically_stable  :  True \n",
      "\n",
      "->  is_Symmetric  :  True \n",
      "\n",
      "->  is_Symplectic  :  True \n",
      "\n",
      "->  conserve_quadratic_invariants  :  True \n",
      "\n",
      "->  stability_on_real_negative_axis  :  -Infinity \n",
      "\n",
      "->  order  :  6 \n",
      "\n",
      "->  order_star_function  :  abs((-1.0*(x + I*y)^3 - 12.0*(x + I*y)^2 - 60.0*x - 60.0*I*y - 120.0)*e^(-x - I*y)/(1.0*(x + I*y)^3 - 12.0*(x + I*y)^2 + 60.0*x + 60.0*I*y - 120.0)) \n",
      "\n"
     ]
    }
   ],
   "source": [
    "F.print_all_known_properties()"
   ]
  }
 ],
 "metadata": {
  "kernelspec": {
   "display_name": "SageMath 9.1",
   "language": "sage",
   "name": "sagemath"
  },
  "language_info": {
   "codemirror_mode": {
    "name": "ipython",
    "version": 3
   },
   "file_extension": ".py",
   "mimetype": "text/x-python",
   "name": "python",
   "nbconvert_exporter": "python",
   "pygments_lexer": "ipython3",
   "version": "3.7.3"
  }
 },
 "nbformat": 4,
 "nbformat_minor": 2
}
