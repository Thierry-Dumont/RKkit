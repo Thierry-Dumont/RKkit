{
 "cells": [
  {
   "cell_type": "markdown",
   "metadata": {},
   "source": [
    "### Gaussian formulae ###"
   ]
  },
  {
   "cell_type": "code",
   "execution_count": 1,
   "metadata": {},
   "outputs": [],
   "source": [
    "from rkkit import *"
   ]
  },
  {
   "cell_type": "markdown",
   "metadata": {},
   "source": [
    "We must compute in exact numbers, generally algebraic numbers (AA if real, QQbar else)."
   ]
  },
  {
   "cell_type": "code",
   "execution_count": 2,
   "metadata": {},
   "outputs": [],
   "source": [
    "R = PolynomialRing(AA,\"x\")\n",
    "x=R.gen()"
   ]
  },
  {
   "cell_type": "markdown",
   "metadata": {},
   "source": [
    "Build Gaussian RK methods, find stability properties, compute order using rooted trees, draw stability function and order star.\n",
    "\n",
    "*Z!* Computing order with rooted trees is very expensive when n grows!"
   ]
  },
  {
   "cell_type": "code",
   "execution_count": 3,
   "metadata": {},
   "outputs": [],
   "source": [
    "# this is only to draw the \"star\"\n",
    "y=var(\"y\")"
   ]
  },
  {
   "cell_type": "code",
   "execution_count": 4,
   "metadata": {},
   "outputs": [],
   "source": [
    "for n in range(1,4):\n",
    "    c = [(s[0]+1)/2 for s in R(legendre_P(n,x)).roots()] #roots of shifted polynomials (collocation points)\n",
    "    GenRK = RKcolloc.colloc(c,R,\"Gauss-\"+str(n))# coefficients of the RK formula"
   ]
  },
  {
   "cell_type": "markdown",
   "metadata": {},
   "source": [
    "_RKcolloc.colloc as returned a class (a type). We must instantiate it:_"
   ]
  },
  {
   "cell_type": "code",
   "execution_count": 5,
   "metadata": {},
   "outputs": [],
   "source": [
    "    G=GenRK()"
   ]
  },
  {
   "cell_type": "code",
   "execution_count": null,
   "metadata": {},
   "outputs": [
    {
     "name": "stdout",
     "output_type": "stream",
     "text": [
      "\n",
      "Nom : Gauss-3\n",
      "A-stable:  True\n",
      "L-stable:  False\n",
      "order:  6\n",
      "stability functions:  (-1.000000000000000?*z^3 - 12.00000000000000?*z^2 - 60.00000000000000?*z - 120.0000000000000?)/(1.000000000000000?*z^3 - 12.00000000000000?*z^2 + 60.00000000000000?*z - 120.0000000000000?)\n",
      "stiffly accurate?  False\n",
      "algebraically stable? True\n",
      "conserve quadratic invariants? True\n"
     ]
    },
    {
     "data": {
      "image/png": "[encoded data removed]",
      "text/plain": [
       "Graphics object consisting of 1 graphics primitive"
      ]
     },
     "metadata": {},
     "output_type": "display_data"
    }
   ],
   "source": [
    "    F=RKformula(G)\n",
    "    #start some tests\n",
    "    print(\"\\nNom :\",G.Title)\n",
    "    print(\"A-stable: \",F.is_A_stable())\n",
    "    print(\"L-stable: \",F.is_L_stable())\n",
    "    print(\"order: \",F.order())\n",
    "    print(\"stability functions: \",F.stability_function())\n",
    "    print(\"stiffly accurate? \",F.is_stiffly_accurate())\n",
    "    print(\"algebraically stable?\",F.is_algebraically_stable())\n",
    "    print(\"conserve quadratic invariants?\",F.conserve_quadratic_invariants())\n",
    "    p=RKplot(F,fill=True,ncurves=2,Enlarge=1)\n",
    "    p.show()\n",
    "    q=RKplot(F,fill=True,ncurves=2,type=\"star\",Enlarge=1)\n",
    "    q.show()"
   ]
  },
  {
   "cell_type": "code",
   "execution_count": null,
   "metadata": {},
   "outputs": [],
   "source": []
  }
 ],
 "metadata": {
  "kernelspec": {
   "display_name": "SageMath 9.4",
   "language": "sage",
   "name": "sagemath"
  },
  "language_info": {
   "codemirror_mode": {
    "name": "ipython",
    "version": 3
   },
   "file_extension": ".py",
   "mimetype": "text/x-python",
   "name": "python",
   "nbconvert_exporter": "python",
   "pygments_lexer": "ipython3",
   "version": "3.9.5"
  }
 },
 "nbformat": 4,
 "nbformat_minor": 2
}
