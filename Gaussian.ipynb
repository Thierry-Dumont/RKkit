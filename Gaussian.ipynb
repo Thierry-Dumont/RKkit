{
 "cells": [
  {
   "cell_type": "markdown",
   "metadata": {},
   "source": [
    "### Gaussian formulae ###"
   ]
  },
  {
   "cell_type": "code",
   "execution_count": 1,
   "metadata": {},
   "outputs": [],
   "source": [
    "from RKformula import *\n",
    "from RKplot import *\n",
    "from RKcolloc import * #computes the Butcher array"
   ]
  },
  {
   "cell_type": "markdown",
   "metadata": {},
   "source": [
    "We must compute in exact numbers, generally algebraic numbers (AA if real, QQbar else)."
   ]
  },
  {
   "cell_type": "code",
   "execution_count": 2,
   "metadata": {},
   "outputs": [],
   "source": [
    "R = PolynomialRing(AA,\"x\")\n",
    "x=R.gen()"
   ]
  },
  {
   "cell_type": "markdown",
   "metadata": {},
   "source": [
    "Build Gaussian RK methods, find stability properties, and computed order.\n",
    "\n",
    "*Z!* Computing order with rooted trees is very expensive when n grows!"
   ]
  },
  {
   "cell_type": "code",
   "execution_count": 3,
   "metadata": {},
   "outputs": [
    {
     "name": "stdout",
     "output_type": "stream",
     "text": [
      "\n",
      "n= 2\n",
      "True\n",
      "False\n",
      "order:  4\n",
      "\n",
      "n= 3\n",
      "True\n",
      "False\n",
      "order:  6\n"
     ]
    }
   ],
   "source": [
    "for n in range(2,4):\n",
    "    c = [(s[0]+1)/2 for s in R(legendre_P(n,x)).roots()] #roots of shifted polynomials (collocation points)\n",
    "    A,B = colloc(c,R)# coeefficients of the RK formula\n",
    "    F=RKformula(A,B)\n",
    "    #start some tests\n",
    "    print \"\\nn=\",n\n",
    "    print F.is_A_stable()\n",
    "    print F.is_L_stable()\n",
    "    print \"order: \",F.order_using_rooted_trees()"
   ]
  },
  {
   "cell_type": "code",
   "execution_count": null,
   "metadata": {},
   "outputs": [],
   "source": []
  }
 ],
 "metadata": {
  "kernelspec": {
   "display_name": "SageMath 8.2",
   "language": "",
   "name": "sagemath"
  },
  "language_info": {
   "codemirror_mode": {
    "name": "ipython",
    "version": 2
   },
   "file_extension": ".py",
   "mimetype": "text/x-python",
   "name": "python",
   "nbconvert_exporter": "python",
   "pygments_lexer": "ipython2",
   "version": "2.7.14"
  }
 },
 "nbformat": 4,
 "nbformat_minor": 2
}
