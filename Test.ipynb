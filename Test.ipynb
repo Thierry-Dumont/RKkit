{
 "cells": [
  {
   "cell_type": "markdown",
   "metadata": {},
   "source": [
    "## Test: can we compute all  properties for all coded formulas? ##"
   ]
  },
  {
   "cell_type": "code",
   "execution_count": 1,
   "metadata": {},
   "outputs": [],
   "source": [
    "from rkkit import *"
   ]
  },
  {
   "cell_type": "code",
   "execution_count": 2,
   "metadata": {},
   "outputs": [],
   "source": [
    "load(\"radau5.sage\",\"sdirk3.sage\",\"gauss4.sage\",\"radau2a.sage\",\"rk4.sage\",\"sdirk5.sage\",\"lobatto4.sage\")"
   ]
  },
  {
   "cell_type": "code",
   "execution_count": 3,
   "metadata": {},
   "outputs": [],
   "source": [
    "formulas=[Radau5,SDIRK3,Gauss4,Radau2a,RK4,SDIRK5,Lobatto4]"
   ]
  },
  {
   "cell_type": "code",
   "execution_count": 4,
   "metadata": {},
   "outputs": [
    {
     "name": "stdout",
     "output_type": "stream",
     "text": [
      "Radau5 method\n",
      "*  Radau5 method : ok.\n",
      "\n",
      "Sdirk3 method\n",
      "*  Sdirk3 method : ok.\n",
      "\n",
      "Gauss method, order 2.\n",
      "*  Gauss method, order 2. : ok.\n",
      "\n",
      "Radau 2a method\n",
      "*  Radau 2a method : ok.\n",
      "\n",
      "Classical Runge-Kutta 4 explicit method\n",
      "*  Classical Runge-Kutta 4 explicit method : ok.\n",
      "\n",
      "SDIRKmethod, order 5\n",
      "*  SDIRKmethod, order 5 : ok.\n",
      "\n",
      "Lobatto method, order 4\n",
      "*  Lobatto method, order 4 : ok.\n",
      "\n"
     ]
    }
   ],
   "source": [
    "for formula in formulas:\n",
    "    print(formula.title)\n",
    "    F=RKformula(formula.A,formula.B)\n",
    "    F.compute_all_properties()\n",
    "    print(\"* \",formula.title,': ok.\\n')\n",
    "    "
   ]
  },
  {
   "cell_type": "markdown",
   "metadata": {},
   "source": [
    "Try also some Gauss formulas."
   ]
  },
  {
   "cell_type": "code",
   "execution_count": 6,
   "metadata": {},
   "outputs": [
    {
     "name": "stdout",
     "output_type": "stream",
     "text": [
      "* n=  1 : ok.\n",
      "\n",
      "* n=  2 : ok.\n",
      "\n",
      "* n=  3 : ok.\n",
      "\n"
     ]
    }
   ],
   "source": [
    "R = PolynomialRing(AA,\"x\")\n",
    "for n in[1,2,3]:\n",
    "    c = [(s[0]+1)/2 for s in R(legendre_P(n,x)).roots()]\n",
    "    A,B = colloc(c,R)\n",
    "    F=RKformula(A,B)\n",
    "    F.compute_all_properties()\n",
    "    print(\"* n= \",n,': ok.\\n')"
   ]
  },
  {
   "cell_type": "markdown",
   "metadata": {},
   "source": [
    "##### end #####"
   ]
  },
  {
   "cell_type": "code",
   "execution_count": null,
   "metadata": {},
   "outputs": [],
   "source": []
  }
 ],
 "metadata": {
  "kernelspec": {
   "display_name": "SageMath 9.1",
   "language": "sage",
   "name": "sagemath"
  },
  "language_info": {
   "codemirror_mode": {
    "name": "ipython",
    "version": 3
   },
   "file_extension": ".py",
   "mimetype": "text/x-python",
   "name": "python",
   "nbconvert_exporter": "python",
   "pygments_lexer": "ipython3",
   "version": "3.7.3"
  }
 },
 "nbformat": 4,
 "nbformat_minor": 2
}
