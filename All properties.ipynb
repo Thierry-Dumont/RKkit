{
 "cells": [
  {
   "cell_type": "markdown",
   "metadata": {},
   "source": [
    "## Make all implemented tests on a Runge-Kutta formula ##"
   ]
  },
  {
   "cell_type": "markdown",
   "metadata": {},
   "source": [
    "_RKformula_ has a method  _compute_ _all_ _properties()_.\n",
    "\n",
    "Let us, for axample compute \"all\" the properties of a Gauss formula. "
   ]
  },
  {
   "cell_type": "code",
   "execution_count": 1,
   "metadata": {},
   "outputs": [],
   "source": [
    "from rkkit import *"
   ]
  },
  {
   "cell_type": "code",
   "execution_count": 2,
   "metadata": {},
   "outputs": [],
   "source": [
    "R = PolynomialRing(AA,\"x\")\n",
    "x=R.gen()"
   ]
  },
  {
   "cell_type": "code",
   "execution_count": 3,
   "metadata": {},
   "outputs": [],
   "source": [
    "n=3"
   ]
  },
  {
   "cell_type": "code",
   "execution_count": 4,
   "metadata": {},
   "outputs": [],
   "source": [
    "c = [(s[0]+1)/2 for s in R(legendre_P(n,x)).roots()]\n",
    "A,B=colloc(c,R)\n",
    "F=RKformula(A,B)"
   ]
  },
  {
   "cell_type": "markdown",
   "metadata": {},
   "source": [
    "The following computation can take time (if the order is high)."
   ]
  },
  {
   "cell_type": "code",
   "execution_count": 5,
   "metadata": {},
   "outputs": [],
   "source": [
    "F.compute_all_properties()"
   ]
  },
  {
   "cell_type": "code",
   "execution_count": 6,
   "metadata": {},
   "outputs": [
    {
     "name": "stdout",
     "output_type": "stream",
     "text": [
      "->  is_module_of_stability_function_constant_on_Im  :\n",
      " True \n",
      "\n",
      "->  order_star_function  :\n",
      " abs((0.008333333333333335*(x + I*y)^3 + 0.1*(x + I*y)^2 + 0.5*x + 0.5*I*y + 1.0)*e^(-x - I*y)/(-0.008333333333333335*(x + I*y)^3 + 0.1*(x + I*y)^2 - 0.5*x - 0.5*I*y + 1.0)) \n",
      "\n",
      "->  is_Symplectic  :\n",
      " True \n",
      "\n",
      "->  stability_on_real_negative_axis  :\n",
      " -Infinity \n",
      "\n",
      "->  conserve_quadratic_invariants  :\n",
      " True \n",
      "\n",
      "->  is_stiffly_accurate  :\n",
      " False \n",
      "\n",
      "->  is_explicit  :\n",
      " False \n",
      "\n",
      "->  is_Symmetric  :\n",
      " True \n",
      "\n",
      "->  is_A_stable  :\n",
      " True \n",
      "\n",
      "->  R_infinite  :\n",
      " -1 \n",
      "\n",
      "->  is_L_stable  :\n",
      " False \n",
      "\n",
      "->  is_module_of_stability_function_less_than_1  :\n",
      " True \n",
      "\n",
      "->  stability_function  :\n",
      " (1/120*z^3 + 1/10*z^2 + 1/2*z + 1)/(-1/120*z^3 + 1/10*z^2 - 1/2*z + 1) \n",
      "\n",
      "->  stability_function_on_im_axis  :\n",
      " (-1/120*I*x^3 - 1/10*x^2 + 1/2*I*x + 1)/(1/120*I*x^3 - 1/10*x^2 - 1/2*I*x + 1) \n",
      "\n",
      "->  A_is_invertible  :\n",
      " True \n",
      "\n",
      "->  order_of_stability_function  :\n",
      " 6 \n",
      "\n",
      "->  order  :\n",
      " 6 \n",
      "\n",
      "->  is_algebraically_stable  :\n",
      " True \n",
      "\n",
      "->  poles_of_stability_function  :\n",
      " [(4.644370709252172?, 1), (3.677814645373915? - 3.508761919567443?*I, 1), (3.677814645373915? + 3.508761919567443?*I, 1)] \n",
      "\n",
      "->  squared_module_of_stability_function_on_Im  :\n",
      " 1 \n",
      "\n",
      "->  real_part_of_poles_all_positive  :\n",
      " (True, 0) \n",
      "\n"
     ]
    }
   ],
   "source": [
    "F.print_all_known_properties()"
   ]
  },
  {
   "cell_type": "code",
   "execution_count": null,
   "metadata": {},
   "outputs": [],
   "source": []
  }
 ],
 "metadata": {
  "kernelspec": {
   "display_name": "SageMath 8.3",
   "language": "",
   "name": "sagemath"
  },
  "language_info": {
   "codemirror_mode": {
    "name": "ipython",
    "version": 2
   },
   "file_extension": ".py",
   "mimetype": "text/x-python",
   "name": "python",
   "nbconvert_exporter": "python",
   "pygments_lexer": "ipython2",
   "version": "2.7.15"
  }
 },
 "nbformat": 4,
 "nbformat_minor": 2
}
