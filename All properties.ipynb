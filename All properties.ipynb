{
 "cells": [
  {
   "cell_type": "markdown",
   "metadata": {},
   "source": [
    "## Make all implemented tests on a Runge-Kutta formula ##"
   ]
  },
  {
   "cell_type": "markdown",
   "metadata": {},
   "source": [
    "_RKformula_ has a method  _compute_ _all_ _properties()_.\n",
    "\n",
    "Let us, for axample compute \"all\" the properties of a Gauss formula. "
   ]
  },
  {
   "cell_type": "code",
   "execution_count": 2,
   "metadata": {},
   "outputs": [],
   "source": [
    "from rkkit import *"
   ]
  },
  {
   "cell_type": "code",
   "execution_count": 3,
   "metadata": {},
   "outputs": [],
   "source": [
    "R = PolynomialRing(AA,\"x\")\n",
    "x=R.gen()"
   ]
  },
  {
   "cell_type": "code",
   "execution_count": 4,
   "metadata": {},
   "outputs": [],
   "source": [
    "n=3"
   ]
  },
  {
   "cell_type": "code",
   "execution_count": 5,
   "metadata": {},
   "outputs": [],
   "source": [
    "c = [(s[0]+1)/2 for s in R(legendre_P(n,x)).roots()]\n",
    "A,B=colloc(c,R)\n",
    "F=RKformula(A,B)"
   ]
  },
  {
   "cell_type": "markdown",
   "metadata": {},
   "source": [
    "The following computation can take time (if the order is high)."
   ]
  },
  {
   "cell_type": "code",
   "execution_count": 6,
   "metadata": {},
   "outputs": [],
   "source": [
    "F.compute_all_properties()"
   ]
  },
  {
   "cell_type": "code",
   "execution_count": 7,
   "metadata": {},
   "outputs": [
    {
     "name": "stdout",
     "output_type": "stream",
     "text": [
      "->  A_is_invertible  :\n",
      " True \n",
      "\n",
      "->  stability_function  :\n",
      " (-z^3 - 12*z^2 - 60*z - 120)/(z^3 - 12*z^2 + 60*z - 120) \n",
      "\n",
      "->  is_explicit  :\n",
      " False \n",
      "\n",
      "->  poles_of_stability_function  :\n",
      " [(4.644370709252172?, 1), (3.677814645373915? - 3.508761919567443?*I, 1), (3.677814645373915? + 3.508761919567443?*I, 1)] \n",
      "\n",
      "->  real_part_of_poles_all_positive  :\n",
      " (True, 0) \n",
      "\n",
      "->  order_of_stability_function  :\n",
      " 6 \n",
      "\n",
      "->  stability_function_on_im_axis  :\n",
      " (-x^3 + 12*I*x^2 + 60*x - 120*I)/(x^3 + 12*I*x^2 - 60*x - 120*I) \n",
      "\n",
      "->  squared_module_of_stability_function_on_Im  :\n",
      " 1 \n",
      "\n",
      "->  is_module_of_stability_function_constant_on_Im  :\n",
      " True \n",
      "\n",
      "->  is_module_of_stability_function_less_than_1  :\n",
      " True \n",
      "\n",
      "->  is_A_stable  :\n",
      " True \n",
      "\n",
      "->  is_stiffly_accurate  :\n",
      " False \n",
      "\n",
      "->  R_infinite  :\n",
      " -1 \n",
      "\n",
      "->  is_L_stable  :\n",
      " False \n",
      "\n",
      "->  is_algebraically_stable  :\n",
      " True \n",
      "\n",
      "->  is_Symmetric  :\n",
      " True \n",
      "\n",
      "->  is_Symplectic  :\n",
      " True \n",
      "\n",
      "->  conserve_quadratic_invariants  :\n",
      " True \n",
      "\n",
      "->  stability_on_real_negative_axis  :\n",
      " -Infinity \n",
      "\n",
      "->  order  :\n",
      " 6 \n",
      "\n",
      "->  order_star_function  :\n",
      " abs((-1.0*(x + I*y)^3 - 12.0*(x + I*y)^2 - 60.0*x - 60.0*I*y - 120.0)*e^(-x - I*y)/(1.0*(x + I*y)^3 - 12.0*(x + I*y)^2 + 60.0*x + 60.0*I*y - 120.0)) \n",
      "\n"
     ]
    }
   ],
   "source": [
    "F.print_all_known_properties()"
   ]
  }
 ],
 "metadata": {
  "kernelspec": {
   "display_name": "SageMath 9.1",
   "language": "sage",
   "name": "sagemath"
  },
  "language_info": {
   "codemirror_mode": {
    "name": "ipython",
    "version": 3
   },
   "file_extension": ".py",
   "mimetype": "text/x-python",
   "name": "python",
   "nbconvert_exporter": "python",
   "pygments_lexer": "ipython3",
   "version": "3.7.3"
  }
 },
 "nbformat": 4,
 "nbformat_minor": 2
}
